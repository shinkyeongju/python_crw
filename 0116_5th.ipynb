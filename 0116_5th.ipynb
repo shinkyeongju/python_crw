{
 "cells": [
  {
   "cell_type": "code",
   "execution_count": 1,
   "metadata": {},
   "outputs": [],
   "source": [
    "import scrapy\n",
    "class NaverbotSpider(scrapy.Spider):\n",
    "    name = 'naverbot'\n",
    "    start_urls = ['https://news.naver.com/main/list.nhn?mode=LSD&mid=sec&sid1=001']\n",
    "    def parse(self, response):\n",
    "        titles = response.xpath('//*[@id=\"main_content\"]/div[2]/ul/li/dl//dt[2]/a/text()').extract()\n",
    "        authors = response.css('.writing::text').extract()\n",
    "        previews = response.css('.lede::text').extract()\n",
    "        for item in zip(titles, authors, previews):\n",
    "            scraped_info = {\n",
    "                'title' : item[0].strip(),\n",
    "                'author' : item[1].strip(),\n",
    "                'preview' : item[2].strip(),\n",
    "                }\n",
    "            yield scraped_info"
   ]
  },
  {
   "cell_type": "code",
   "execution_count": 32,
   "metadata": {},
   "outputs": [
    {
     "name": "stdout",
     "output_type": "stream",
     "text": [
      "\\    /\\\n",
      " )  ( ')\n",
      "(  /  )\n",
      " \\(__)|\n"
     ]
    }
   ],
   "source": [
    "print(\"\\    /\\\\\")\n",
    "print(\" )  ( ')\")\n",
    "print(\"(  /  )\")\n",
    "print(\" \\(__)|\")"
   ]
  },
  {
   "cell_type": "code",
   "execution_count": null,
   "metadata": {},
   "outputs": [],
   "source": []
  }
 ],
 "metadata": {
  "kernelspec": {
   "display_name": "Python 3",
   "language": "python",
   "name": "python3"
  },
  "language_info": {
   "codemirror_mode": {
    "name": "ipython",
    "version": 3
   },
   "file_extension": ".py",
   "mimetype": "text/x-python",
   "name": "python",
   "nbconvert_exporter": "python",
   "pygments_lexer": "ipython3",
   "version": "3.7.5"
  }
 },
 "nbformat": 4,
 "nbformat_minor": 2
}
