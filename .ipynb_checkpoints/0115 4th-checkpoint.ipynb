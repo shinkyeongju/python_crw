{
 "cells": [
  {
   "cell_type": "markdown",
   "metadata": {},
   "source": [
    "# 자바스크립트를 이용한 스크레이핑\n",
    "## Selenium\n",
    "- 자바스크립트를 해석할 때는 Selenium 사용\n",
    "- webdriver라는 API를 이용하여 운영체제에 설치된 브라우저 제어\n",
    "1. Selenium 설치\n",
    "    - conda install -c conda-forge selenium\n",
    "2. Chrome driver 설치"
   ]
  },
  {
   "cell_type": "code",
   "execution_count": 4,
   "metadata": {},
   "outputs": [],
   "source": [
    "from selenium import webdriver\n",
    "\n",
    "driver = webdriver.Chrome('c:/driver/chromedriver')\n",
    "# driver = webdriver.Chrome(executable_path='c:/driver/chromedriver.exe')\n",
    "driver.implicitly_wait(2)\n",
    "driver.get('http://www.google.com')"
   ]
  },
  {
   "cell_type": "markdown",
   "metadata": {},
   "source": [
    "## 페이지의 단일 element 접근\n",
    "- find_element_by_name('HTML_name')\n",
    "페이지의 여러 elements 접근\n",
    "- find_elements_by_name('')"
   ]
  },
  {
   "cell_type": "code",
   "execution_count": 5,
   "metadata": {},
   "outputs": [
    {
     "name": "stdout",
     "output_type": "stream",
     "text": [
      "None\n"
     ]
    }
   ],
   "source": [
    "from selenium import webdriver\n",
    "\n",
    "driver = webdriver.Chrome('c:/driver/chromedriver')\n",
    "# driver = webdriver.Chrome(executable_path='c:/driver/chromedriver.exe')\n",
    "driver.implicitly_wait(2)\n",
    "driver.get('http://www.google.com')\n",
    "print(driver.find_element_by_name('div'))"
   ]
  },
  {
   "cell_type": "code",
   "execution_count": 4,
   "metadata": {},
   "outputs": [
    {
     "name": "stdout",
     "output_type": "stream",
     "text": [
      "크롤링할 키워드는 무엇입니까?: 속초\n"
     ]
    }
   ],
   "source": [
    "#Step 0. 필요한 모듈과 라이브러리를 로딩하고 검색어를 입력 받습니다\n",
    "from bs4 import BeautifulSoup\n",
    "from selenium import webdriver\n",
    "import time\n",
    "\n",
    "query_txt = input('크롤링할 키워드는 무엇입니까?: ')\n",
    "\n",
    "#Step 1. 크롬 드라이버를 사용해서 웹 브라우저를 실행합니다.\n",
    "path = \"c:/driver/chromedriver\"\n",
    "driver = webdriver.Chrome(path)\n",
    "\n",
    "driver.get(\"https://korean.visitkorea.or.kr\")\n",
    "time.sleep(2) # 위 페이지가 모두 열릴 때 까지 2초 기다립니다.\n",
    "\n",
    "#Step 2. 검색창의 이름을 찾아서 검색어를 입력합니다\n",
    "driver.find_element_by_id(\"btnSearch\").click()\n",
    "\n",
    "element = driver.find_element_by_id(\"inp_search\")\n",
    "\n",
    "element.send_keys(query_txt)\n",
    "\n",
    "#Step 3. 검색 버튼을 눌러 실행합니다\n",
    "\n",
    "driver.find_element_by_link_text(\"검색\").click()\n",
    "#driver.find_element_by_class_name(\"btn_search2\").click() # class name 으로도 가능합니다.\n",
    "#driver.find_element_by_xpath('//*[@id=\"gnbMain\"]/div/div/div[1]/div[1]/a').click() # xpath 로도 가능합니다."
   ]
  },
  {
   "cell_type": "markdown",
   "metadata": {},
   "source": [
    "## selenium으로 사이트 브라우징\n",
    "1. soup객체를 이용하려면 driver.page_source 이용\n",
    "    - driver.page_source : 브라우저에 보이는 그대로의 html, 크롬 개발자 도구의 Element 탭 내용과 동일\n",
    "2. requests 통해 가져온 req.text: HTTP요청 결과로 받아온 HTML, 크롬 개발자 도구의 페이지 소스 내용과 동일"
   ]
  },
  {
   "cell_type": "markdown",
   "metadata": {},
   "source": [
    "## selenium 예제\n",
    "- 네이버 데이터랩의 데이터 크롤링\n",
    "- 패션의류 검색어 top20"
   ]
  },
  {
   "cell_type": "code",
   "execution_count": 20,
   "metadata": {},
   "outputs": [
    {
     "name": "stdout",
     "output_type": "stream",
     "text": [
      "['1', '리버클래시']\n",
      "['2', '원피스']\n",
      "['3', '여성숏패딩']\n",
      "['4', '로맨틱크라운패딩']\n",
      "['5', '다이나핏패딩']\n",
      "['6', 'mlb패딩']\n",
      "['7', '핸드메이드코트']\n",
      "['8', '내셔널지오그래픽숏패딩']\n",
      "['9', '내셔널지오그래픽롱패딩']\n",
      "['10', '아비쏘']\n",
      "['11', '롱패딩']\n",
      "['12', '하프크라이즈패딩']\n",
      "['13', '펜필드후삭']\n",
      "['14', '숏패딩']\n",
      "['15', '에고이스트패딩']\n",
      "['16', '니트원피스']\n",
      "['17', '여성패딩']\n",
      "['18', '여성롱패딩']\n",
      "['19', '라쉬반']\n",
      "['20', '남자롱패딩']\n"
     ]
    }
   ],
   "source": [
    "import time\n",
    "\n",
    "from selenium import webdriver\n",
    "from selenium.webdriver.chrome.options import Options\n",
    "from selenium.webdriver.support.wait import WebDriverWait\n",
    "\n",
    "options = Options()\n",
    "options.headless = True                                                 # 웹을 실제로 띄우지 않고 크롤링 가능\n",
    "browser = webdriver.Chrome('c:/driver/chromedriver', options=options)   # 웹을 실제로 띄우지 않고 크롤링 가능\n",
    "# browser = webdriver.Chrome('c:/driver/chromedriver')                  # 이 line을 실행하면 웹이 띄워짐\n",
    "browser.get('https://datalab.naver.com/shoppingInsight/sCategory.naver')\n",
    "\n",
    "time.sleep(2)\n",
    "tag_names = browser.find_element_by_css_selector('.rank_top1000_list').find_elements_by_tag_name('li')\n",
    "for tag in tag_names:\n",
    "    print(tag.text.split('\\n'))"
   ]
  },
  {
   "cell_type": "markdown",
   "metadata": {},
   "source": [
    "## selenium을 통해 네이버 페이지 screenshot 저장"
   ]
  },
  {
   "cell_type": "code",
   "execution_count": 19,
   "metadata": {},
   "outputs": [
    {
     "data": {
      "text/plain": [
       "True"
      ]
     },
     "execution_count": 19,
     "metadata": {},
     "output_type": "execute_result"
    }
   ],
   "source": [
    "from selenium import webdriver\n",
    "\n",
    "driver = webdriver.Chrome('c:/driver/chromedriver')\n",
    "driver.get('http://www.naver.com')\n",
    "driver.save_screenshot('c:/data/screenshot/001.png')"
   ]
  },
  {
   "cell_type": "markdown",
   "metadata": {},
   "source": [
    "#### driver 닫기\n",
    "driver.close()"
   ]
  },
  {
   "cell_type": "markdown",
   "metadata": {},
   "source": [
    "### selenium을 이용하여 서울시 구별 주유소 가격 가져오기\n",
    "- 개발자 도구를 이용하여 구 선택 부분의 id나 xpath 얻어오기 -> option 얻어오기"
   ]
  },
  {
   "cell_type": "code",
   "execution_count": null,
   "metadata": {},
   "outputs": [],
   "source": [
    "driver.close()"
   ]
  },
  {
   "cell_type": "code",
   "execution_count": 3,
   "metadata": {},
   "outputs": [
    {
     "ename": "NameError",
     "evalue": "name 'driver' is not defined",
     "output_type": "error",
     "traceback": [
      "\u001b[1;31m---------------------------------------------------------------------------\u001b[0m",
      "\u001b[1;31mNameError\u001b[0m                                 Traceback (most recent call last)",
      "\u001b[1;32m<ipython-input-3-a85ab0bcbabb>\u001b[0m in \u001b[0;36m<module>\u001b[1;34m\u001b[0m\n\u001b[0;32m      2\u001b[0m \u001b[1;33m\u001b[0m\u001b[0m\n\u001b[0;32m      3\u001b[0m \u001b[0mbrowser\u001b[0m \u001b[1;33m=\u001b[0m \u001b[0mwebdriver\u001b[0m\u001b[1;33m.\u001b[0m\u001b[0mChrome\u001b[0m\u001b[1;33m(\u001b[0m\u001b[1;34m'c:/driver/chromedriver'\u001b[0m\u001b[1;33m)\u001b[0m\u001b[1;33m\u001b[0m\u001b[1;33m\u001b[0m\u001b[0m\n\u001b[1;32m----> 4\u001b[1;33m \u001b[0mdriver\u001b[0m\u001b[1;33m.\u001b[0m\u001b[0mget\u001b[0m\u001b[1;33m(\u001b[0m\u001b[1;34m'http://goo.gl/VH1A5t'\u001b[0m\u001b[1;33m)\u001b[0m\u001b[1;33m\u001b[0m\u001b[1;33m\u001b[0m\u001b[0m\n\u001b[0m\u001b[0;32m      5\u001b[0m \u001b[0mdriver\u001b[0m\u001b[1;33m.\u001b[0m\u001b[0mget\u001b[0m\u001b[1;33m(\u001b[0m\u001b[1;34m'http://www.opinet.co.kr/searRgSelect.do'\u001b[0m\u001b[1;33m)\u001b[0m\u001b[1;33m\u001b[0m\u001b[1;33m\u001b[0m\u001b[0m\n\u001b[0;32m      6\u001b[0m \u001b[1;33m\u001b[0m\u001b[0m\n",
      "\u001b[1;31mNameError\u001b[0m: name 'driver' is not defined"
     ]
    }
   ],
   "source": [
    "from selenium import webdriver\n",
    "                                        \n",
    "browser = webdriver.Chrome('c:/driver/chromedriver')\n",
    "driver.get('http://goo.gl/VH1A5t')\n",
    "driver.get('http://www.opinet.co.kr/searRgSelect.do')\n",
    "\n",
    "\n",
    "gu_selection = driver.find_element_by_id('SIGUNGU_NM0')\n",
    "gu_list = gu_selection.find_elements_by_tag_name('option')\n",
    "gu_values = []\n",
    "print(gu_list)\n",
    "\n",
    "for gu in gu_list:\n",
    "    gu_names.append(gu.get_attribute('value'))\n",
    "print(gu_names)"
   ]
  }
 ],
 "metadata": {
  "kernelspec": {
   "display_name": "Python 3",
   "language": "python",
   "name": "python3"
  },
  "language_info": {
   "codemirror_mode": {
    "name": "ipython",
    "version": 3
   },
   "file_extension": ".py",
   "mimetype": "text/x-python",
   "name": "python",
   "nbconvert_exporter": "python",
   "pygments_lexer": "ipython3",
   "version": "3.7.5"
  }
 },
 "nbformat": 4,
 "nbformat_minor": 2
}
